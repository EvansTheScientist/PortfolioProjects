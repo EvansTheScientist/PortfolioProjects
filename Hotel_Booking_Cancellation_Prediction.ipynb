{
 "cells": [
  {
   "cell_type": "markdown",
   "id": "5anWY7mmJ0Z3",
   "metadata": {
    "id": "5anWY7mmJ0Z3",
    "tags": []
   },
   "source": [
    "# **Hotel Booking Cancellation Prediction Project**"
   ]
  },
  {
   "cell_type": "markdown",
   "id": "dense-medicaid",
   "metadata": {
    "id": "dense-medicaid"
   },
   "source": [
    "## Business Context\n",
    "\n",
    "With the increasing popularity and ease-of-access of online hotel booking platforms, customers tend to make reservations in advance to avoid any last minute rush and higher prices. These online platforms offer flexible cancellation options, in some cases even a day before reservation. To compete with this, even offline bookings have increased the flexibility in cancellations. This has led to an increase in the growing number of cancellations, with one of the primary reasons being last-minute changes in travel plans. These sudden changes can result from unforeseen circumstances, such as personal emergencies, flight delays, or unexpected events at the travel destination.\n",
    "\n",
    "Hotel booking cancellations becomes a crucial problem to solve as it leads to revenue loss and operational inefficiencies. The cancellation of bookings impacts a hotel on various fronts:\n",
    "\n",
    "1. Loss of revenue when the hotel cannot resell the room\n",
    "\n",
    "2. Additional costs of distribution channels by increasing commissions or paying for publicity to help sell these rooms\n",
    "\n",
    "3. Lowering prices last minute, so the hotel can resell a room, resulting in reduced profit margins"
   ]
  },
  {
   "cell_type": "markdown",
   "id": "RkjASpFDeR4m",
   "metadata": {
    "id": "RkjASpFDeR4m"
   },
   "source": [
    "## Problem Definition\n",
    "\n",
    "The INN Hotels Group have been contending with the challenge of rising cancellations for nearly a year now. However, the last three months seeing a **rise of inventory loss due to cancellation rise to an all-time high of 18%**. This has led to a jump in the **revenue loss to an all-time high of approx. \\$0.25 million annually**. This has significantly impacted their profit margins.\n",
    "\n",
    "- In the current context, inventory refers to a hotel room, and the inability to sell one leads to inventory loss\n",
    "\n",
    "The group has been using heuristic mechanisms (rule and domain expert based) to try and reduce the revenue loss due to cancellations, but this hasn't been effective so far hasn't been effective (neither efficient nor scalable), as evident from the magnitude of losses they are incurring.\n",
    "\n",
    "The group has decided that they **need an Data Science-based solution to predict the likelihood of a booking being cancelled** as they expect it to be more effective than their current mechanism. They hope that this proactive approach will help them significantly **minimize revenue loss and improve operational efficiency**.\n"
   ]
  },
  {
   "cell_type": "markdown",
   "id": "tqfNqaJCQeEE",
   "metadata": {
    "id": "tqfNqaJCQeEE"
   },
   "source": [
    "## Importing the necessary libraries"
   ]
  },
  {
   "cell_type": "code",
   "execution_count": null,
   "id": "S5EioOsTUOHS",
   "metadata": {
    "colab": {
     "base_uri": "https://localhost:8080/"
    },
    "id": "S5EioOsTUOHS",
    "outputId": "33685a6f-ff31-4ec4-e01b-7ce295154343"
   },
   "outputs": [
    {
     "name": "stdout",
     "output_type": "stream",
     "text": [
      "Requirement already satisfied: gradio in c:\\software\\anaconda\\lib\\site-packages (3.33.1)\n",
      "Requirement already satisfied: markdown-it-py[linkify]>=2.0.0 in c:\\software\\anaconda\\lib\\site-packages (from gradio) (2.2.0)\n",
      "Requirement already satisfied: websockets>=10.0 in c:\\software\\anaconda\\lib\\site-packages (from gradio) (11.0.3)\n",
      "Requirement already satisfied: aiohttp in c:\\software\\anaconda\\lib\\site-packages (from gradio) (3.8.4)\n",
      "Requirement already satisfied: pygments>=2.12.0 in c:\\software\\anaconda\\lib\\site-packages (from gradio) (2.15.1)\n",
      "Requirement already satisfied: pydub in c:\\software\\anaconda\\lib\\site-packages (from gradio) (0.25.1)\n",
      "Requirement already satisfied: markupsafe in c:\\software\\anaconda\\lib\\site-packages (from gradio) (1.1.1)\n",
      "Requirement already satisfied: huggingface-hub>=0.14.0 in c:\\software\\anaconda\\lib\\site-packages (from gradio) (0.15.1)\n",
      "Requirement already satisfied: ffmpy in c:\\software\\anaconda\\lib\\site-packages (from gradio) (0.3.0)\n",
      "Requirement already satisfied: gradio-client>=0.2.4 in c:\\software\\anaconda\\lib\\site-packages (from gradio) (0.2.5)\n",
      "Requirement already satisfied: pyyaml in c:\\software\\anaconda\\lib\\site-packages (from gradio) (6.0)\n",
      "Requirement already satisfied: pillow in c:\\software\\anaconda\\lib\\site-packages (from gradio) (8.4.0)\n",
      "Requirement already satisfied: httpx in c:\\software\\anaconda\\lib\\site-packages (from gradio) (0.24.1)\n",
      "Requirement already satisfied: aiofiles in c:\\software\\anaconda\\lib\\site-packages (from gradio) (23.1.0)\n",
      "Requirement already satisfied: semantic-version in c:\\software\\anaconda\\lib\\site-packages (from gradio) (2.10.0)\n",
      "Requirement already satisfied: uvicorn>=0.14.0 in c:\\software\\anaconda\\lib\\site-packages (from gradio) (0.22.0)\n",
      "Requirement already satisfied: mdit-py-plugins<=0.3.3 in c:\\software\\anaconda\\lib\\site-packages (from gradio) (0.3.3)\n",
      "Requirement already satisfied: matplotlib in c:\\users\\arijit das\\appdata\\roaming\\python\\python38\\site-packages (from gradio) (3.4.2)\n",
      "Requirement already satisfied: requests in c:\\software\\anaconda\\lib\\site-packages (from gradio) (2.27.1)\n",
      "Requirement already satisfied: fastapi in c:\\software\\anaconda\\lib\\site-packages (from gradio) (0.96.0)\n",
      "Requirement already satisfied: typing-extensions in c:\\software\\anaconda\\lib\\site-packages (from gradio) (4.6.3)\n",
      "Requirement already satisfied: pydantic in c:\\software\\anaconda\\lib\\site-packages (from gradio) (1.10.8)\n",
      "Requirement already satisfied: jinja2 in c:\\software\\anaconda\\lib\\site-packages (from gradio) (2.11.3)\n",
      "Requirement already satisfied: numpy in c:\\software\\anaconda\\lib\\site-packages (from gradio) (1.22.2)\n",
      "Requirement already satisfied: orjson in c:\\software\\anaconda\\lib\\site-packages (from gradio) (3.9.0)\n",
      "Requirement already satisfied: pandas in c:\\users\\arijit das\\appdata\\roaming\\python\\python38\\site-packages (from gradio) (1.3.4)\n",
      "Requirement already satisfied: python-multipart in c:\\software\\anaconda\\lib\\site-packages (from gradio) (0.0.6)\n",
      "Requirement already satisfied: altair>=4.2.0 in c:\\software\\anaconda\\lib\\site-packages (from gradio) (5.0.1)\n",
      "Requirement already satisfied: jsonschema>=3.0 in c:\\software\\anaconda\\lib\\site-packages (from altair>=4.2.0->gradio) (3.2.0)\n",
      "Requirement already satisfied: toolz in c:\\software\\anaconda\\lib\\site-packages (from altair>=4.2.0->gradio) (0.11.2)\n",
      "Requirement already satisfied: fsspec in c:\\software\\anaconda\\lib\\site-packages (from gradio-client>=0.2.4->gradio) (2022.1.0)\n",
      "Requirement already satisfied: packaging in c:\\software\\anaconda\\lib\\site-packages (from gradio-client>=0.2.4->gradio) (21.3)\n",
      "Requirement already satisfied: tqdm>=4.42.1 in c:\\software\\anaconda\\lib\\site-packages (from huggingface-hub>=0.14.0->gradio) (4.62.3)\n",
      "Requirement already satisfied: filelock in c:\\software\\anaconda\\lib\\site-packages (from huggingface-hub>=0.14.0->gradio) (3.4.2)\n",
      "Requirement already satisfied: pyrsistent>=0.14.0 in c:\\software\\anaconda\\lib\\site-packages (from jsonschema>=3.0->altair>=4.2.0->gradio) (0.18.0)\n",
      "Requirement already satisfied: six>=1.11.0 in c:\\software\\anaconda\\lib\\site-packages (from jsonschema>=3.0->altair>=4.2.0->gradio) (1.15.0)\n",
      "Requirement already satisfied: setuptools in c:\\software\\anaconda\\lib\\site-packages (from jsonschema>=3.0->altair>=4.2.0->gradio) (58.0.4)\n",
      "Requirement already satisfied: attrs>=17.4.0 in c:\\software\\anaconda\\lib\\site-packages (from jsonschema>=3.0->altair>=4.2.0->gradio) (21.4.0)\n",
      "Requirement already satisfied: mdurl~=0.1 in c:\\software\\anaconda\\lib\\site-packages (from markdown-it-py[linkify]>=2.0.0->gradio) (0.1.2)\n",
      "Requirement already satisfied: linkify-it-py<3,>=1 in c:\\software\\anaconda\\lib\\site-packages (from markdown-it-py[linkify]>=2.0.0->gradio) (2.0.2)\n",
      "Requirement already satisfied: uc-micro-py in c:\\software\\anaconda\\lib\\site-packages (from linkify-it-py<3,>=1->markdown-it-py[linkify]>=2.0.0->gradio) (1.0.2)\n",
      "Requirement already satisfied: pyparsing!=3.0.5,>=2.0.2 in c:\\software\\anaconda\\lib\\site-packages (from packaging->gradio-client>=0.2.4->gradio) (3.0.4)\n",
      "Requirement already satisfied: python-dateutil>=2.7.3 in c:\\software\\anaconda\\lib\\site-packages (from pandas->gradio) (2.8.2)\n",
      "Requirement already satisfied: pytz>=2017.3 in c:\\software\\anaconda\\lib\\site-packages (from pandas->gradio) (2021.3)\n",
      "Requirement already satisfied: colorama in c:\\software\\anaconda\\lib\\site-packages (from tqdm>=4.42.1->huggingface-hub>=0.14.0->gradio) (0.4.4)\n",
      "Requirement already satisfied: h11>=0.8 in c:\\software\\anaconda\\lib\\site-packages (from uvicorn>=0.14.0->gradio) (0.14.0)\n",
      "Requirement already satisfied: click>=7.0 in c:\\software\\anaconda\\lib\\site-packages (from uvicorn>=0.14.0->gradio) (8.0.3)\n",
      "Requirement already satisfied: aiosignal>=1.1.2 in c:\\software\\anaconda\\lib\\site-packages (from aiohttp->gradio) (1.3.1)\n",
      "Requirement already satisfied: yarl<2.0,>=1.0 in c:\\software\\anaconda\\lib\\site-packages (from aiohttp->gradio) (1.9.2)\n",
      "Requirement already satisfied: async-timeout<5.0,>=4.0.0a3 in c:\\software\\anaconda\\lib\\site-packages (from aiohttp->gradio) (4.0.2)\n",
      "Requirement already satisfied: frozenlist>=1.1.1 in c:\\software\\anaconda\\lib\\site-packages (from aiohttp->gradio) (1.3.3)\n",
      "Requirement already satisfied: charset-normalizer<4.0,>=2.0 in c:\\software\\anaconda\\lib\\site-packages (from aiohttp->gradio) (2.0.4)\n",
      "Requirement already satisfied: multidict<7.0,>=4.5 in c:\\software\\anaconda\\lib\\site-packages (from aiohttp->gradio) (6.0.4)\n",
      "Requirement already satisfied: idna>=2.0 in c:\\software\\anaconda\\lib\\site-packages (from yarl<2.0,>=1.0->aiohttp->gradio) (3.3)\n",
      "Requirement already satisfied: starlette<0.28.0,>=0.27.0 in c:\\software\\anaconda\\lib\\site-packages (from fastapi->gradio) (0.27.0)\n",
      "Requirement already satisfied: anyio<5,>=3.4.0 in c:\\software\\anaconda\\lib\\site-packages (from starlette<0.28.0,>=0.27.0->fastapi->gradio) (3.7.0)\n",
      "Requirement already satisfied: exceptiongroup in c:\\software\\anaconda\\lib\\site-packages (from anyio<5,>=3.4.0->starlette<0.28.0,>=0.27.0->fastapi->gradio) (1.1.1)\n",
      "Requirement already satisfied: sniffio>=1.1 in c:\\software\\anaconda\\lib\\site-packages (from anyio<5,>=3.4.0->starlette<0.28.0,>=0.27.0->fastapi->gradio) (1.2.0)\n",
      "Requirement already satisfied: certifi in c:\\software\\anaconda\\lib\\site-packages (from httpx->gradio) (2022.12.7)\n",
      "Requirement already satisfied: httpcore<0.18.0,>=0.15.0 in c:\\software\\anaconda\\lib\\site-packages (from httpx->gradio) (0.17.2)\n",
      "Requirement already satisfied: cycler>=0.10 in c:\\software\\anaconda\\lib\\site-packages (from matplotlib->gradio) (0.11.0)\n",
      "Requirement already satisfied: kiwisolver>=1.0.1 in c:\\software\\anaconda\\lib\\site-packages (from matplotlib->gradio) (1.3.1)\n",
      "Requirement already satisfied: urllib3<1.27,>=1.21.1 in c:\\software\\anaconda\\lib\\site-packages (from requests->gradio) (1.26.8)\n"
     ]
    }
   ],
   "source": [
    "# installing the library for deploying ML models\n",
    "!pip install gradio"
   ]
  },
  {
   "cell_type": "code",
   "execution_count": null,
   "id": "proper-calgary",
   "metadata": {
    "id": "proper-calgary"
   },
   "outputs": [],
   "source": [
    "# libraries to help with reading and manipulating data\n",
    "import pandas as pd\n",
    "import numpy as np\n",
    "\n",
    "# libaries to help with data visualization\n",
    "import matplotlib.pyplot as plt\n",
    "import seaborn as sns\n",
    "\n",
    "# removing the limit for the number of displayed columns\n",
    "pd.set_option(\"display.max_columns\", None)\n",
    "# setting the limit for the number of displayed rows\n",
    "pd.set_option(\"display.max_rows\", 200)\n",
    "# setting the precision of floating numbers to 2 decimal points\n",
    "pd.set_option(\"display.float_format\", lambda x: \"%.2f\" % x)\n",
    "\n",
    "# library to split data\n",
    "from sklearn.model_selection import train_test_split\n",
    "\n",
    "# library to build ML model\n",
    "from sklearn.tree import DecisionTreeClassifier\n",
    "\n",
    "# library to tune ML model\n",
    "from sklearn.model_selection import GridSearchCV\n",
    "\n",
    "from sklearn.metrics import (\n",
    "    f1_score,\n",
    "    accuracy_score,\n",
    "    recall_score,\n",
    "    precision_score,\n",
    "    confusion_matrix,\n",
    "    roc_auc_score,\n",
    "    ConfusionMatrixDisplay,\n",
    ")\n",
    "\n",
    "# libraries to evaluate the ML model\n",
    "from sklearn.metrics import f1_score, make_scorer\n",
    "\n",
    "# libraries to deploy the ML model\n",
    "import os\n",
    "import joblib\n",
    "import gradio as gr"
   ]
  },
  {
   "cell_type": "markdown",
   "id": "fantastic-rebel",
   "metadata": {
    "id": "fantastic-rebel"
   },
   "source": [
    "## Loading the dataset"
   ]
  },
  {
   "cell_type": "code",
   "execution_count": null,
   "id": "2HilxH_z6ErA",
   "metadata": {
    "id": "2HilxH_z6ErA"
   },
   "outputs": [],
   "source": [
    "# # importing using Google Colab\n",
    "\n",
    "# # connecting Google Drive to this Python notebook\n",
    "# from google.colab import drive\n",
    "# drive.mount('/content/drive')\n",
    "\n",
    "# # defining the location where the data is stored\n",
    "# path = \"/content/drive/MyDrive/\"\n",
    "# # loading the data into a Pandas dataframe\n",
    "# # hotel = pd.read_csv(path+\"INNHotelsGroup.csv\")"
   ]
  },
  {
   "cell_type": "code",
   "execution_count": null,
   "id": "precious-leonard",
   "metadata": {
    "id": "precious-leonard"
   },
   "outputs": [],
   "source": [
    "# # importing using Jupyter Notebook\n",
    "\n",
    "# # loading the data into a Pandas dataframe\n",
    "hotel = pd.read_csv(\"INNHotelsGroup.csv\")"
   ]
  },
  {
   "cell_type": "code",
   "execution_count": null,
   "id": "mA0Quj1D5sSj",
   "metadata": {
    "id": "mA0Quj1D5sSj",
    "outputId": "ab1b2d41-57f7-4047-ed87-5db2f1593a77"
   },
   "outputs": [
    {
     "data": {
      "text/html": [
       "<div>\n",
       "<style scoped>\n",
       "    .dataframe tbody tr th:only-of-type {\n",
       "        vertical-align: middle;\n",
       "    }\n",
       "\n",
       "    .dataframe tbody tr th {\n",
       "        vertical-align: top;\n",
       "    }\n",
       "\n",
       "    .dataframe thead th {\n",
       "        text-align: right;\n",
       "    }\n",
       "</style>\n",
       "<table border=\"1\" class=\"dataframe\">\n",
       "  <thead>\n",
       "    <tr style=\"text-align: right;\">\n",
       "      <th></th>\n",
       "      <th>lead_time</th>\n",
       "      <th>market_segment_type</th>\n",
       "      <th>no_of_special_requests</th>\n",
       "      <th>avg_price_per_room</th>\n",
       "      <th>no_of_adults</th>\n",
       "      <th>no_of_weekend_nights</th>\n",
       "      <th>arrival_date</th>\n",
       "      <th>required_car_parking_space</th>\n",
       "      <th>no_of_week_nights</th>\n",
       "      <th>booking_status</th>\n",
       "    </tr>\n",
       "  </thead>\n",
       "  <tbody>\n",
       "    <tr>\n",
       "      <th>18212</th>\n",
       "      <td>103</td>\n",
       "      <td>Offline</td>\n",
       "      <td>0</td>\n",
       "      <td>115.00</td>\n",
       "      <td>1</td>\n",
       "      <td>0</td>\n",
       "      <td>2018-04-19</td>\n",
       "      <td>0</td>\n",
       "      <td>2</td>\n",
       "      <td>Canceled</td>\n",
       "    </tr>\n",
       "    <tr>\n",
       "      <th>3267</th>\n",
       "      <td>86</td>\n",
       "      <td>Online</td>\n",
       "      <td>2</td>\n",
       "      <td>90.00</td>\n",
       "      <td>2</td>\n",
       "      <td>1</td>\n",
       "      <td>2018-11-04</td>\n",
       "      <td>0</td>\n",
       "      <td>2</td>\n",
       "      <td>Not_Canceled</td>\n",
       "    </tr>\n",
       "    <tr>\n",
       "      <th>28472</th>\n",
       "      <td>20</td>\n",
       "      <td>Online</td>\n",
       "      <td>1</td>\n",
       "      <td>92.67</td>\n",
       "      <td>2</td>\n",
       "      <td>1</td>\n",
       "      <td>2018-12-09</td>\n",
       "      <td>0</td>\n",
       "      <td>2</td>\n",
       "      <td>Not_Canceled</td>\n",
       "    </tr>\n",
       "    <tr>\n",
       "      <th>34178</th>\n",
       "      <td>22</td>\n",
       "      <td>Online</td>\n",
       "      <td>1</td>\n",
       "      <td>126.04</td>\n",
       "      <td>2</td>\n",
       "      <td>4</td>\n",
       "      <td>2018-12-28</td>\n",
       "      <td>0</td>\n",
       "      <td>10</td>\n",
       "      <td>Not_Canceled</td>\n",
       "    </tr>\n",
       "    <tr>\n",
       "      <th>35404</th>\n",
       "      <td>109</td>\n",
       "      <td>Online</td>\n",
       "      <td>4</td>\n",
       "      <td>105.21</td>\n",
       "      <td>2</td>\n",
       "      <td>2</td>\n",
       "      <td>2018-07-06</td>\n",
       "      <td>0</td>\n",
       "      <td>4</td>\n",
       "      <td>Not_Canceled</td>\n",
       "    </tr>\n",
       "    <tr>\n",
       "      <th>31551</th>\n",
       "      <td>30</td>\n",
       "      <td>Offline</td>\n",
       "      <td>0</td>\n",
       "      <td>127.15</td>\n",
       "      <td>1</td>\n",
       "      <td>0</td>\n",
       "      <td>2018-10-28</td>\n",
       "      <td>0</td>\n",
       "      <td>1</td>\n",
       "      <td>Not_Canceled</td>\n",
       "    </tr>\n",
       "    <tr>\n",
       "      <th>30927</th>\n",
       "      <td>192</td>\n",
       "      <td>Offline</td>\n",
       "      <td>0</td>\n",
       "      <td>100.00</td>\n",
       "      <td>2</td>\n",
       "      <td>0</td>\n",
       "      <td>2018-08-25</td>\n",
       "      <td>0</td>\n",
       "      <td>3</td>\n",
       "      <td>Not_Canceled</td>\n",
       "    </tr>\n",
       "    <tr>\n",
       "      <th>30473</th>\n",
       "      <td>278</td>\n",
       "      <td>Online</td>\n",
       "      <td>0</td>\n",
       "      <td>103.95</td>\n",
       "      <td>2</td>\n",
       "      <td>2</td>\n",
       "      <td>2018-07-16</td>\n",
       "      <td>1</td>\n",
       "      <td>1</td>\n",
       "      <td>Canceled</td>\n",
       "    </tr>\n",
       "    <tr>\n",
       "      <th>27445</th>\n",
       "      <td>0</td>\n",
       "      <td>Online</td>\n",
       "      <td>0</td>\n",
       "      <td>85.93</td>\n",
       "      <td>1</td>\n",
       "      <td>0</td>\n",
       "      <td>2018-05-12</td>\n",
       "      <td>0</td>\n",
       "      <td>1</td>\n",
       "      <td>Not_Canceled</td>\n",
       "    </tr>\n",
       "    <tr>\n",
       "      <th>33154</th>\n",
       "      <td>37</td>\n",
       "      <td>Online</td>\n",
       "      <td>1</td>\n",
       "      <td>92.31</td>\n",
       "      <td>1</td>\n",
       "      <td>4</td>\n",
       "      <td>2018-12-15</td>\n",
       "      <td>0</td>\n",
       "      <td>9</td>\n",
       "      <td>Canceled</td>\n",
       "    </tr>\n",
       "  </tbody>\n",
       "</table>\n",
       "</div>"
      ],
      "text/plain": [
       "       lead_time market_segment_type  no_of_special_requests  \\\n",
       "18212        103             Offline                       0   \n",
       "3267          86              Online                       2   \n",
       "28472         20              Online                       1   \n",
       "34178         22              Online                       1   \n",
       "35404        109              Online                       4   \n",
       "31551         30             Offline                       0   \n",
       "30927        192             Offline                       0   \n",
       "30473        278              Online                       0   \n",
       "27445          0              Online                       0   \n",
       "33154         37              Online                       1   \n",
       "\n",
       "       avg_price_per_room  no_of_adults  no_of_weekend_nights arrival_date  \\\n",
       "18212              115.00             1                     0   2018-04-19   \n",
       "3267                90.00             2                     1   2018-11-04   \n",
       "28472               92.67             2                     1   2018-12-09   \n",
       "34178              126.04             2                     4   2018-12-28   \n",
       "35404              105.21             2                     2   2018-07-06   \n",
       "31551              127.15             1                     0   2018-10-28   \n",
       "30927              100.00             2                     0   2018-08-25   \n",
       "30473              103.95             2                     2   2018-07-16   \n",
       "27445               85.93             1                     0   2018-05-12   \n",
       "33154               92.31             1                     4   2018-12-15   \n",
       "\n",
       "       required_car_parking_space  no_of_week_nights booking_status  \n",
       "18212                           0                  2       Canceled  \n",
       "3267                            0                  2   Not_Canceled  \n",
       "28472                           0                  2   Not_Canceled  \n",
       "34178                           0                 10   Not_Canceled  \n",
       "35404                           0                  4   Not_Canceled  \n",
       "31551                           0                  1   Not_Canceled  \n",
       "30927                           0                  3   Not_Canceled  \n",
       "30473                           1                  1       Canceled  \n",
       "27445                           0                  1   Not_Canceled  \n",
       "33154                           0                  9       Canceled  "
      ]
     },
     "execution_count": 5,
     "metadata": {},
     "output_type": "execute_result"
    }
   ],
   "source": [
    "hotel.sample(10, random_state=10)"
   ]
  },
  {
   "cell_type": "markdown",
   "id": "9h1fiVAvVLsJ",
   "metadata": {
    "id": "9h1fiVAvVLsJ"
   },
   "source": [
    "# **Exploratory Data Analysis**\n"
   ]
  },
  {
   "cell_type": "code",
   "execution_count": null,
   "id": "HngQJECtVCrQ",
   "metadata": {
    "id": "HngQJECtVCrQ"
   },
   "outputs": [],
   "source": [
    "# creating a copy of the data to avoid any changes to original data\n",
    "data = hotel.copy()"
   ]
  },
  {
   "cell_type": "code",
   "execution_count": null,
   "id": "backed-solution",
   "metadata": {
    "colab": {
     "base_uri": "https://localhost:8080/"
    },
    "id": "backed-solution",
    "outputId": "3880b689-b414-4f0b-91c0-6e83be0fa997"
   },
   "outputs": [
    {
     "data": {
      "text/html": [
       "<div>\n",
       "<style scoped>\n",
       "    .dataframe tbody tr th:only-of-type {\n",
       "        vertical-align: middle;\n",
       "    }\n",
       "\n",
       "    .dataframe tbody tr th {\n",
       "        vertical-align: top;\n",
       "    }\n",
       "\n",
       "    .dataframe thead th {\n",
       "        text-align: right;\n",
       "    }\n",
       "</style>\n",
       "<table border=\"1\" class=\"dataframe\">\n",
       "  <thead>\n",
       "    <tr style=\"text-align: right;\">\n",
       "      <th></th>\n",
       "      <th>count</th>\n",
       "      <th>mean</th>\n",
       "      <th>std</th>\n",
       "      <th>min</th>\n",
       "      <th>25%</th>\n",
       "      <th>50%</th>\n",
       "      <th>75%</th>\n",
       "      <th>max</th>\n",
       "    </tr>\n",
       "  </thead>\n",
       "  <tbody>\n",
       "    <tr>\n",
       "      <th>lead_time</th>\n",
       "      <td>36275.00</td>\n",
       "      <td>85.23</td>\n",
       "      <td>85.93</td>\n",
       "      <td>0.00</td>\n",
       "      <td>17.00</td>\n",
       "      <td>57.00</td>\n",
       "      <td>126.00</td>\n",
       "      <td>443.00</td>\n",
       "    </tr>\n",
       "    <tr>\n",
       "      <th>no_of_special_requests</th>\n",
       "      <td>36275.00</td>\n",
       "      <td>0.62</td>\n",
       "      <td>0.79</td>\n",
       "      <td>0.00</td>\n",
       "      <td>0.00</td>\n",
       "      <td>0.00</td>\n",
       "      <td>1.00</td>\n",
       "      <td>5.00</td>\n",
       "    </tr>\n",
       "    <tr>\n",
       "      <th>avg_price_per_room</th>\n",
       "      <td>36275.00</td>\n",
       "      <td>103.42</td>\n",
       "      <td>35.09</td>\n",
       "      <td>0.00</td>\n",
       "      <td>80.30</td>\n",
       "      <td>99.45</td>\n",
       "      <td>120.00</td>\n",
       "      <td>540.00</td>\n",
       "    </tr>\n",
       "    <tr>\n",
       "      <th>no_of_adults</th>\n",
       "      <td>36275.00</td>\n",
       "      <td>1.84</td>\n",
       "      <td>0.52</td>\n",
       "      <td>0.00</td>\n",
       "      <td>2.00</td>\n",
       "      <td>2.00</td>\n",
       "      <td>2.00</td>\n",
       "      <td>4.00</td>\n",
       "    </tr>\n",
       "    <tr>\n",
       "      <th>no_of_weekend_nights</th>\n",
       "      <td>36275.00</td>\n",
       "      <td>0.81</td>\n",
       "      <td>0.87</td>\n",
       "      <td>0.00</td>\n",
       "      <td>0.00</td>\n",
       "      <td>1.00</td>\n",
       "      <td>2.00</td>\n",
       "      <td>7.00</td>\n",
       "    </tr>\n",
       "    <tr>\n",
       "      <th>required_car_parking_space</th>\n",
       "      <td>36275.00</td>\n",
       "      <td>0.03</td>\n",
       "      <td>0.17</td>\n",
       "      <td>0.00</td>\n",
       "      <td>0.00</td>\n",
       "      <td>0.00</td>\n",
       "      <td>0.00</td>\n",
       "      <td>1.00</td>\n",
       "    </tr>\n",
       "    <tr>\n",
       "      <th>no_of_week_nights</th>\n",
       "      <td>36275.00</td>\n",
       "      <td>2.20</td>\n",
       "      <td>1.41</td>\n",
       "      <td>0.00</td>\n",
       "      <td>1.00</td>\n",
       "      <td>2.00</td>\n",
       "      <td>3.00</td>\n",
       "      <td>17.00</td>\n",
       "    </tr>\n",
       "  </tbody>\n",
       "</table>\n",
       "</div>"
      ],
      "text/plain": [
       "                              count   mean   std  min   25%   50%    75%  \\\n",
       "lead_time                  36275.00  85.23 85.93 0.00 17.00 57.00 126.00   \n",
       "no_of_special_requests     36275.00   0.62  0.79 0.00  0.00  0.00   1.00   \n",
       "avg_price_per_room         36275.00 103.42 35.09 0.00 80.30 99.45 120.00   \n",
       "no_of_adults               36275.00   1.84  0.52 0.00  2.00  2.00   2.00   \n",
       "no_of_weekend_nights       36275.00   0.81  0.87 0.00  0.00  1.00   2.00   \n",
       "required_car_parking_space 36275.00   0.03  0.17 0.00  0.00  0.00   0.00   \n",
       "no_of_week_nights          36275.00   2.20  1.41 0.00  1.00  2.00   3.00   \n",
       "\n",
       "                              max  \n",
       "lead_time                  443.00  \n",
       "no_of_special_requests       5.00  \n",
       "avg_price_per_room         540.00  \n",
       "no_of_adults                 4.00  \n",
       "no_of_weekend_nights         7.00  \n",
       "required_car_parking_space   1.00  \n",
       "no_of_week_nights           17.00  "
      ]
     },
     "execution_count": 7,
     "metadata": {},
     "output_type": "execute_result"
    }
   ],
   "source": [
    "# checking the statistical summary of the data\n",
    "data.describe().T"
   ]
  },
  {
   "cell_type": "markdown",
   "id": "personal-detector",
   "metadata": {
    "id": "personal-detector"
   },
   "source": [
    "* The number of adults ranges from 0 to 4, which is usual.\n",
    "* The range of the number of weeks and weekend nights seems fine. Though 7 weekends might be a very long stay.\n",
    "* At least 75% of the customers do not require car parking space.\n",
    "* On average the customers book 85 days in advance. There's also a very huge difference in 75th percentile and maximum value which indicates there might be outliers present in this column.\n",
    "* The average price per room is 103 euros. There's a huge difference between the 75th percentile and the maximum value which indicates there might be outliers present in this column."
   ]
  },
  {
   "cell_type": "code",
   "execution_count": null,
   "id": "Mxjs1Ik2TKAv",
   "metadata": {
    "id": "Mxjs1Ik2TKAv"
   },
   "outputs": [],
   "source": [
    "# defining a function to create a bar graph with percentage values\n",
    "\n",
    "def labeled_barplot(data, feature, perc=False, n=None):\n",
    "    \"\"\"\n",
    "    Barplot with percentage at the top\n",
    "\n",
    "    data: dataframe\n",
    "    feature: dataframe column\n",
    "    perc: whether to display percentages instead of count (default is False)\n",
    "    n: displays the top n category levels (default is None, i.e., display all levels)\n",
    "    \"\"\"\n",
    "\n",
    "    total = len(data[feature])  # length of the column\n",
    "    count = data[feature].nunique()\n",
    "    if n is None:\n",
    "        plt.figure(figsize=(count + 2, 6))\n",
    "    else:\n",
    "        plt.figure(figsize=(n + 2, 6))\n",
    "\n",
    "    ax = sns.countplot(\n",
    "        data=data,\n",
    "        x=feature,\n",
    "        palette=\"Paired\",\n",
    "        order=data[feature].value_counts().index[:n],\n",
    "    )\n",
    "\n",
    "    for p in ax.patches:\n",
    "        if perc == True:\n",
    "            label = \"{:.1f}%\".format(\n",
    "                100 * p.get_height() / total\n",
    "            )  # percentage of each class of the category\n",
    "        else:\n",
    "            label = p.get_height()  # count of each level of the category\n",
    "\n",
    "        x = p.get_x() + p.get_width() / 2  # width of the plot\n",
    "        y = p.get_height()  # height of the plot\n",
    "\n",
    "        ax.annotate(\n",
    "            label,\n",
    "            (x, y),\n",
    "            ha=\"center\",\n",
    "            va=\"center\",\n",
    "            size=15,\n",
    "            xytext=(0, 5),\n",
    "            textcoords=\"offset points\",\n",
    "        )  # annotate the percentage\n",
    "\n",
    "    # increase the size of x-axis and y-axis scales\n",
    "    ax.tick_params(axis='x', labelsize=15)\n",
    "    ax.tick_params(axis='y', labelsize=15)\n",
    "\n",
    "    # setting axis labels\n",
    "    ax.set_xlabel(feature.replace('_', ' ').title(), fontsize=15)\n",
    "    ax.set_ylabel('')\n",
    "\n",
    "    # show the plot\n",
    "    plt.show()"
   ]
  },
  {
   "cell_type": "code",
   "execution_count": null,
   "id": "quick-progress",
   "metadata": {
    "id": "quick-progress"
   },
   "outputs": [],
   "source": [
    "def stacked_barplot(data, predictor, target):\n",
    "    \"\"\"\n",
    "    Print the category counts and plot a stacked bar chart\n",
    "\n",
    "    data: dataframe\n",
    "    predictor: independent variable\n",
    "    target: target variable\n",
    "    \"\"\"\n",
    "    count = data[predictor].nunique()\n",
    "    sorter = data[target].value_counts().index[-1]\n",
    "    tab1 = pd.crosstab(data[predictor], data[target], margins=True)\n",
    "    print(tab1)\n",
    "    print(\"-\" * 120)\n",
    "    tab = pd.crosstab(data[predictor], data[target], normalize=\"index\")\n",
    "    tab.plot(kind=\"bar\", stacked=True, figsize=(count + 5, 5))\n",
    "    plt.legend(loc=\"upper left\", fontsize=12, bbox_to_anchor=(1, 1))\n",
    "\n",
    "    # setting the formatting for x-axis\n",
    "    plt.xticks(fontsize=15, rotation=0)\n",
    "    plt.xlabel(predictor.replace('_', ' ').title(), fontsize=15)\n",
    "    # setting the formatting for y-axis\n",
    "    plt.yticks(fontsize=15)\n",
    "    # show the plot\n",
    "    plt.show()"
   ]
  },
  {
   "cell_type": "code",
   "execution_count": null,
   "id": "happy-collins",
   "metadata": {
    "colab": {
     "base_uri": "https://localhost:8080/"
    },
    "id": "happy-collins",
    "outputId": "278760fc-98a6-4be4-d942-8cea1472ff39"
   },
   "outputs": [
    {
     "data": {
      "image/png": "[encoded data removed]",
      "text/plain": [
       "<Figure size 288x432 with 1 Axes>"
      ]
     },
     "metadata": {
      "needs_background": "light"
     },
     "output_type": "display_data"
    }
   ],
   "source": [
    "# visualizing the number of cancelled bookings\n",
    "labeled_barplot(data, \"booking_status\", perc=True)"
   ]
  },
  {
   "cell_type": "markdown",
   "id": "quantitative-fetish",
   "metadata": {
    "id": "quantitative-fetish"
   },
   "source": [
    "- Approx. one-third of the bookings were canceled"
   ]
  },
  {
   "cell_type": "code",
   "execution_count": null,
   "id": "animal-depth",
   "metadata": {
    "colab": {
     "base_uri": "https://localhost:8080/"
    },
    "id": "animal-depth",
    "outputId": "8ce910a7-2593-4a6a-e83f-f97fae3393ee"
   },
   "outputs": [
    {
     "data": {
      "image/png": "[encoded data removed]",
      "text/plain": [
       "<Figure size 576x360 with 1 Axes>"
      ]
     },
     "metadata": {
      "needs_background": "light"
     },
     "output_type": "display_data"
    }
   ],
   "source": [
    "# visualizing the relationship between lead time and booking cancellation\n",
    "plt.figure(figsize=(8, 5))\n",
    "sns.boxplot(data=data, x=\"booking_status\", y=\"lead_time\")\n",
    "plt.xticks(fontsize=15)\n",
    "plt.yticks(fontsize=15)\n",
    "plt.xlabel('')\n",
    "plt.ylabel('Lead Time', fontsize=15);"
   ]
  },
  {
   "cell_type": "markdown",
   "id": "advised-community",
   "metadata": {
    "id": "advised-community"
   },
   "source": [
    "- The higher the lead time, higher is the chances of cancellation"
   ]
  },
  {
   "cell_type": "code",
   "execution_count": null,
   "id": "ejSIVQqougae",
   "metadata": {
    "colab": {
     "base_uri": "https://localhost:8080/"
    },
    "id": "ejSIVQqougae",
    "outputId": "47d2da6e-6e85-455c-d15a-deb86eeeb942"
   },
   "outputs": [
    {
     "data": {
      "image/png": "[encoded data removed]",
      "text/plain": [
       "<Figure size 576x360 with 1 Axes>"
      ]
     },
     "metadata": {
      "needs_background": "light"
     },
     "output_type": "display_data"
    }
   ],
   "source": [
    "# visualizing the relationship between avg room price and booking cancellation\n",
    "plt.figure(figsize=(8, 5))\n",
    "sns.boxplot(data=data, x=\"booking_status\", y=\"avg_price_per_room\")\n",
    "plt.xticks(fontsize=15)\n",
    "plt.yticks(fontsize=15)\n",
    "plt.xlabel('')\n",
    "plt.ylabel('Avg Price per Room', fontsize=15);"
   ]
  },
  {
   "cell_type": "markdown",
   "id": "isCnq8gRu2pg",
   "metadata": {
    "id": "isCnq8gRu2pg"
   },
   "source": [
    "- The booking status marginally varies with the average price per room"
   ]
  },
  {
   "cell_type": "code",
   "execution_count": null,
   "id": "specified-novel",
   "metadata": {
    "colab": {
     "base_uri": "https://localhost:8080/"
    },
    "id": "specified-novel",
    "outputId": "a34f598b-bcca-4f26-fbca-7d6fe686c915"
   },
   "outputs": [
    {
     "name": "stdout",
     "output_type": "stream",
     "text": [
      "booking_status       Canceled  Not_Canceled    All\n",
      "market_segment_type                               \n",
      "Offline                  3153          7375  10528\n",
      "Online                   8732         17015  25747\n",
      "All                     11885         24390  36275\n",
      "------------------------------------------------------------------------------------------------------------------------\n"
     ]
    },
    {
     "data": {
      "image/png": "[encoded data removed]",
      "text/plain": [
       "<Figure size 504x360 with 1 Axes>"
      ]
     },
     "metadata": {
      "needs_background": "light"
     },
     "output_type": "display_data"
    }
   ],
   "source": [
    "stacked_barplot(data, \"market_segment_type\", \"booking_status\")"
   ]
  },
  {
   "cell_type": "markdown",
   "id": "cutting-cleanup",
   "metadata": {
    "id": "cutting-cleanup"
   },
   "source": [
    "* Offline bookings have witnessed a slightly lower rate of cancellation compared to online bookings"
   ]
  },
  {
   "cell_type": "code",
   "execution_count": null,
   "id": "AiI8k4GiOeG6",
   "metadata": {
    "id": "AiI8k4GiOeG6"
   },
   "outputs": [],
   "source": [
    "# converting the 'arrival_date' column to datetime type\n",
    "data['arrival_date'] = pd.to_datetime(data['arrival_date'])\n",
    "\n",
    "# extracting month from 'arrival_date'\n",
    "data['arrival_month'] = data['arrival_date'].dt.month"
   ]
  },
  {
   "cell_type": "code",
   "execution_count": null,
   "id": "3cQQ0WxnVeYK",
   "metadata": {
    "colab": {
     "base_uri": "https://localhost:8080/"
    },
    "id": "3cQQ0WxnVeYK",
    "outputId": "58c0c8ad-d673-4230-fd07-3f6272e0ddc5"
   },
   "outputs": [
    {
     "data": {
      "text/html": [
       "<div>\n",
       "<style scoped>\n",
       "    .dataframe tbody tr th:only-of-type {\n",
       "        vertical-align: middle;\n",
       "    }\n",
       "\n",
       "    .dataframe tbody tr th {\n",
       "        vertical-align: top;\n",
       "    }\n",
       "\n",
       "    .dataframe thead th {\n",
       "        text-align: right;\n",
       "    }\n",
       "</style>\n",
       "<table border=\"1\" class=\"dataframe\">\n",
       "  <thead>\n",
       "    <tr style=\"text-align: right;\">\n",
       "      <th></th>\n",
       "      <th>Month</th>\n",
       "      <th>Bookings</th>\n",
       "    </tr>\n",
       "  </thead>\n",
       "  <tbody>\n",
       "    <tr>\n",
       "      <th>0</th>\n",
       "      <td>1</td>\n",
       "      <td>1014</td>\n",
       "    </tr>\n",
       "    <tr>\n",
       "      <th>1</th>\n",
       "      <td>2</td>\n",
       "      <td>1704</td>\n",
       "    </tr>\n",
       "    <tr>\n",
       "      <th>2</th>\n",
       "      <td>3</td>\n",
       "      <td>2358</td>\n",
       "    </tr>\n",
       "    <tr>\n",
       "      <th>3</th>\n",
       "      <td>4</td>\n",
       "      <td>2736</td>\n",
       "    </tr>\n",
       "    <tr>\n",
       "      <th>4</th>\n",
       "      <td>5</td>\n",
       "      <td>2598</td>\n",
       "    </tr>\n",
       "    <tr>\n",
       "      <th>5</th>\n",
       "      <td>6</td>\n",
       "      <td>3203</td>\n",
       "    </tr>\n",
       "    <tr>\n",
       "      <th>6</th>\n",
       "      <td>7</td>\n",
       "      <td>2920</td>\n",
       "    </tr>\n",
       "    <tr>\n",
       "      <th>7</th>\n",
       "      <td>8</td>\n",
       "      <td>3813</td>\n",
       "    </tr>\n",
       "    <tr>\n",
       "      <th>8</th>\n",
       "      <td>9</td>\n",
       "      <td>4611</td>\n",
       "    </tr>\n",
       "    <tr>\n",
       "      <th>9</th>\n",
       "      <td>10</td>\n",
       "      <td>5317</td>\n",
       "    </tr>\n",
       "    <tr>\n",
       "      <th>10</th>\n",
       "      <td>11</td>\n",
       "      <td>2980</td>\n",
       "    </tr>\n",
       "    <tr>\n",
       "      <th>11</th>\n",
       "      <td>12</td>\n",
       "      <td>3021</td>\n",
       "    </tr>\n",
       "  </tbody>\n",
       "</table>\n",
       "</div>"
      ],
      "text/plain": [
       "    Month  Bookings\n",
       "0       1      1014\n",
       "1       2      1704\n",
       "2       3      2358\n",
       "3       4      2736\n",
       "4       5      2598\n",
       "5       6      3203\n",
       "6       7      2920\n",
       "7       8      3813\n",
       "8       9      4611\n",
       "9      10      5317\n",
       "10     11      2980\n",
       "11     12      3021"
      ]
     },
     "execution_count": 15,
     "metadata": {},
     "output_type": "execute_result"
    }
   ],
   "source": [
    "# grouping the data on arrival months and extracting the count of bookings\n",
    "monthly_data = data.groupby([\"arrival_month\"])[\"booking_status\"].count().to_frame().reset_index()\n",
    "monthly_data.columns = ['Month', 'Bookings']\n",
    "monthly_data"
   ]
  },
  {
   "cell_type": "code",
   "execution_count": null,
   "id": "configured-japan",
   "metadata": {
    "colab": {
     "base_uri": "https://localhost:8080/"
    },
    "id": "configured-japan",
    "outputId": "b1907dd1-491c-4671-d0f0-14ffd3a80e27"
   },
   "outputs": [
    {
     "data": {
      "image/png": "[encoded data removed]",
      "text/plain": [
       "<Figure size 720x360 with 1 Axes>"
      ]
     },
     "metadata": {
      "needs_background": "light"
     },
     "output_type": "display_data"
    }
   ],
   "source": [
    "# visualizing the trend of number of bookings across months\n",
    "plt.figure(figsize=(10, 5))\n",
    "sns.lineplot(data=monthly_data, x=\"Month\", y=\"Bookings\")\n",
    "plt.xticks(fontsize=15)\n",
    "plt.yticks(fontsize=15)\n",
    "plt.xlabel('')\n",
    "plt.ylabel('# Bookings', fontsize=15);"
   ]
  },
  {
   "cell_type": "markdown",
   "id": "hawaiian-convert",
   "metadata": {
    "id": "hawaiian-convert"
   },
   "source": [
    "* The trend shows that the number of bookings rise from January to April, remain consistent from April to July, then rise again till October where it reaches a peak, and then drops down again in November and December"
   ]
  },
  {
   "cell_type": "code",
   "execution_count": null,
   "id": "civic-print",
   "metadata": {
    "colab": {
     "base_uri": "https://localhost:8080/"
    },
    "id": "civic-print",
    "outputId": "5991ac87-a461-48dc-ce16-0a88460df990"
   },
   "outputs": [
    {
     "name": "stdout",
     "output_type": "stream",
     "text": [
      "booking_status  Canceled  Not_Canceled    All\n",
      "arrival_month                                \n",
      "1                     24           990   1014\n",
      "2                    430          1274   1704\n",
      "3                    700          1658   2358\n",
      "4                    995          1741   2736\n",
      "5                    948          1650   2598\n",
      "6                   1291          1912   3203\n",
      "7                   1314          1606   2920\n",
      "8                   1488          2325   3813\n",
      "9                   1538          3073   4611\n",
      "10                  1880          3437   5317\n",
      "11                   875          2105   2980\n",
      "12                   402          2619   3021\n",
      "All                11885         24390  36275\n",
      "------------------------------------------------------------------------------------------------------------------------\n"
     ]
    },
    {
     "data": {
      "image/png": "[encoded data removed]",
      "text/plain": [
       "<Figure size 1224x360 with 1 Axes>"
      ]
     },
     "metadata": {
      "needs_background": "light"
     },
     "output_type": "display_data"
    }
   ],
   "source": [
    "##Let's check the percentage of bookings canceled in each month\n",
    "stacked_barplot(data, \"arrival_month\", \"booking_status\")"
   ]
  },
  {
   "cell_type": "markdown",
   "id": "ambient-private",
   "metadata": {
    "id": "ambient-private"
   },
   "source": [
    "* January and December witness a significantly lower rate of cancellation compared to the other months, and July witnesses the highest rate of cancellation"
   ]
  },
  {
   "cell_type": "markdown",
   "id": "gr3q13PBaQL5",
   "metadata": {
    "id": "gr3q13PBaQL5"
   },
   "source": [
    "### EDA Summary"
   ]
  },
  {
   "cell_type": "markdown",
   "id": "4PzALkwtzuAu",
   "metadata": {
    "id": "4PzALkwtzuAu"
   },
   "source": [
    "`Booking Status`\n",
    "\n",
    "\n",
    "![BS 1.png](data:image/png;base64,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)\n",
    "\n",
    "\n",
    "\n",
    "**Approx. one-third of the bookings were canceled**"
   ]
  },
  {
   "cell_type": "markdown",
   "id": "vqoe7UJXz_jF",
   "metadata": {
    "id": "vqoe7UJXz_jF"
   },
   "source": [
    "`Lead Time Vs Booking Status`\n",
    "\n",
    "\n",
    "![LT 1.png](data:image/png;base64,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)\n",
    "\n",
    "**The higher the lead time, higher is the chances of cancellation**"
   ]
  },
  {
   "cell_type": "markdown",
   "id": "lNRfGDmt1JtW",
   "metadata": {
    "id": "lNRfGDmt1JtW"
   },
   "source": [
    "`Market Segment Type Vs Booking Status`\n",
    "\n",
    "![MST 1.png](data:image/png;base64,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)\n",
    "\n",
    "**The cancellation of bookings is independent of the mode of booking (online or offline)**\n",
    "\n",
    "- Customers seem to behave similarly for both modes of booking, which might be due to flexible cancellation policy offered in either mode"
   ]
  },
  {
   "cell_type": "markdown",
   "id": "O8u9G1ik1e6Z",
   "metadata": {
    "id": "O8u9G1ik1e6Z"
   },
   "source": [
    "`Arrival Month Vs Booking Status`\n",
    "\n",
    "![AM 1.png](data:image/png;base64,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)\n",
    "\n",
    "**January (\\~2.5%) and December (\\~10%) witness a significantly lower rate of cancellation compared to the other months (average \\~30%), while July (~40%) witnesses the highest rate of cancellation**"
   ]
  },
  {
   "cell_type": "markdown",
   "id": "Tgdev-8_WOkg",
   "metadata": {
    "id": "Tgdev-8_WOkg"
   },
   "source": [
    "We also noted the following based on the EDA conducted:\n",
    "\n",
    "- **The booking status does not significantly vary with the average price per room**\n",
    "- **The monthly booking trends show that the number of bookings rise from January to April, remain consistent from April to July, then rise again till October where it reaches a peak, and then drops down again in November and December**"
   ]
  },
  {
   "cell_type": "markdown",
   "id": "PxgmYhA-LQpp",
   "metadata": {
    "id": "PxgmYhA-LQpp"
   },
   "source": [
    "We see that variables like lead time and arrival month have a fair amount of difference for cancelled and non-cancelled bookings, while some of the other variables like market segment and avg price per room do not. But we can only visualize the data in 2 or 3 dimensions, and there may be more complex relationships in the data beyond that which cannot be captured visually.\n",
    "\n",
    "So, we need an ML model that can do the following:\n",
    "  - Take the booking detail (customer arrival month, booking lead time, no. of guests, and more) as input\n",
    "  - Learn the patterns in the input data\n",
    "  - Fit a mathematical model using these patterns to identify which situations lead to booking cancellation\n",
    "  - Predict the likelihood of cancellation of a new booking"
   ]
  },
  {
   "cell_type": "markdown",
   "id": "8T-1nexwbVv9",
   "metadata": {
    "id": "8T-1nexwbVv9"
   },
   "source": [
    "# **Model Building**\n"
   ]
  },
  {
   "cell_type": "markdown",
   "id": "vadO50_rPZIi",
   "metadata": {
    "id": "vadO50_rPZIi"
   },
   "source": [
    "## Data Preprocessing"
   ]
  },
  {
   "cell_type": "code",
   "execution_count": null,
   "id": "b9a2b9e3",
   "metadata": {
    "id": "b9a2b9e3"
   },
   "outputs": [],
   "source": [
    "# encoding the output (also called target) attribute\n",
    "data[\"booking_status\"] = data[\"booking_status\"].apply(\n",
    "    lambda x: 1 if x == \"Canceled\" else 0\n",
    ")"
   ]
  },
  {
   "cell_type": "code",
   "execution_count": null,
   "id": "48050773",
   "metadata": {
    "id": "48050773"
   },
   "outputs": [],
   "source": [
    "# separating the input and output variables\n",
    "X = data.drop([\"booking_status\",\"arrival_date\"], axis=1)\n",
    "y = data[\"booking_status\"]\n",
    "\n",
    "# encoding the categorical variables\n",
    "X = pd.get_dummies(X, drop_first=True)\n",
    "\n",
    "# splitting data into train and test sets\n",
    "X_train, X_test, y_train, y_test = train_test_split(\n",
    "    X, y, test_size=0.3, random_state=42\n",
    ")"
   ]
  },
  {
   "cell_type": "code",
   "execution_count": null,
   "id": "f8509d29",
   "metadata": {
    "colab": {
     "base_uri": "https://localhost:8080/"
    },
    "id": "f8509d29",
    "outputId": "d2d7cb3f-d8c1-4e27-f8ea-95d0327d09d7"
   },
   "outputs": [
    {
     "data": {
      "text/html": [
       "<div>\n",
       "<style scoped>\n",
       "    .dataframe tbody tr th:only-of-type {\n",
       "        vertical-align: middle;\n",
       "    }\n",
       "\n",
       "    .dataframe tbody tr th {\n",
       "        vertical-align: top;\n",
       "    }\n",
       "\n",
       "    .dataframe thead th {\n",
       "        text-align: right;\n",
       "    }\n",
       "</style>\n",
       "<table border=\"1\" class=\"dataframe\">\n",
       "  <thead>\n",
       "    <tr style=\"text-align: right;\">\n",
       "      <th></th>\n",
       "      <th>lead_time</th>\n",
       "      <th>no_of_special_requests</th>\n",
       "      <th>avg_price_per_room</th>\n",
       "      <th>no_of_adults</th>\n",
       "      <th>no_of_weekend_nights</th>\n",
       "      <th>required_car_parking_space</th>\n",
       "      <th>no_of_week_nights</th>\n",
       "      <th>arrival_month</th>\n",
       "      <th>market_segment_type_Online</th>\n",
       "    </tr>\n",
       "  </thead>\n",
       "  <tbody>\n",
       "    <tr>\n",
       "      <th>0</th>\n",
       "      <td>224</td>\n",
       "      <td>0</td>\n",
       "      <td>65.00</td>\n",
       "      <td>2</td>\n",
       "      <td>1</td>\n",
       "      <td>0</td>\n",
       "      <td>2</td>\n",
       "      <td>10</td>\n",
       "      <td>0</td>\n",
       "    </tr>\n",
       "    <tr>\n",
       "      <th>1</th>\n",
       "      <td>5</td>\n",
       "      <td>1</td>\n",
       "      <td>106.68</td>\n",
       "      <td>2</td>\n",
       "      <td>2</td>\n",
       "      <td>0</td>\n",
       "      <td>3</td>\n",
       "      <td>11</td>\n",
       "      <td>1</td>\n",
       "    </tr>\n",
       "    <tr>\n",
       "      <th>2</th>\n",
       "      <td>1</td>\n",
       "      <td>0</td>\n",
       "      <td>60.00</td>\n",
       "      <td>1</td>\n",
       "      <td>2</td>\n",
       "      <td>0</td>\n",
       "      <td>1</td>\n",
       "      <td>2</td>\n",
       "      <td>1</td>\n",
       "    </tr>\n",
       "    <tr>\n",
       "      <th>3</th>\n",
       "      <td>211</td>\n",
       "      <td>0</td>\n",
       "      <td>100.00</td>\n",
       "      <td>2</td>\n",
       "      <td>0</td>\n",
       "      <td>0</td>\n",
       "      <td>2</td>\n",
       "      <td>5</td>\n",
       "      <td>1</td>\n",
       "    </tr>\n",
       "    <tr>\n",
       "      <th>4</th>\n",
       "      <td>48</td>\n",
       "      <td>0</td>\n",
       "      <td>94.50</td>\n",
       "      <td>2</td>\n",
       "      <td>1</td>\n",
       "      <td>0</td>\n",
       "      <td>1</td>\n",
       "      <td>4</td>\n",
       "      <td>1</td>\n",
       "    </tr>\n",
       "  </tbody>\n",
       "</table>\n",
       "</div>"
      ],
      "text/plain": [
       "   lead_time  no_of_special_requests  avg_price_per_room  no_of_adults  \\\n",
       "0        224                       0               65.00             2   \n",
       "1          5                       1              106.68             2   \n",
       "2          1                       0               60.00             1   \n",
       "3        211                       0              100.00             2   \n",
       "4         48                       0               94.50             2   \n",
       "\n",
       "   no_of_weekend_nights  required_car_parking_space  no_of_week_nights  \\\n",
       "0                     1                           0                  2   \n",
       "1                     2                           0                  3   \n",
       "2                     2                           0                  1   \n",
       "3                     0                           0                  2   \n",
       "4                     1                           0                  1   \n",
       "\n",
       "   arrival_month  market_segment_type_Online  \n",
       "0             10                           0  \n",
       "1             11                           1  \n",
       "2              2                           1  \n",
       "3              5                           1  \n",
       "4              4                           1  "
      ]
     },
     "execution_count": 20,
     "metadata": {},
     "output_type": "execute_result"
    }
   ],
   "source": [
    "X.head()"
   ]
  },
  {
   "cell_type": "markdown",
   "id": "hp4HeQuQQFRs",
   "metadata": {
    "id": "hp4HeQuQQFRs"
   },
   "source": [
    "## Model Training and Evaluation"
   ]
  },
  {
   "cell_type": "code",
   "execution_count": null,
   "id": "recognized-nurse",
   "metadata": {
    "colab": {
     "base_uri": "https://localhost:8080/",
     "height": 74
    },
    "id": "recognized-nurse",
    "outputId": "c8ea4401-abac-402d-8adb-eeae6a65f82c"
   },
   "outputs": [
    {
     "data": {
      "text/html": [
       "<style>#sk-container-id-1 {color: black;background-color: white;}#sk-container-id-1 pre{padding: 0;}#sk-container-id-1 div.sk-toggleable {background-color: white;}#sk-container-id-1 label.sk-toggleable__label {cursor: pointer;display: block;width: 100%;margin-bottom: 0;padding: 0.3em;box-sizing: border-box;text-align: center;}#sk-container-id-1 label.sk-toggleable__label-arrow:before {content: \"▸\";float: left;margin-right: 0.25em;color: #696969;}#sk-container-id-1 label.sk-toggleable__label-arrow:hover:before {color: black;}#sk-container-id-1 div.sk-estimator:hover label.sk-toggleable__label-arrow:before {color: black;}#sk-container-id-1 div.sk-toggleable__content {max-height: 0;max-width: 0;overflow: hidden;text-align: left;background-color: #f0f8ff;}#sk-container-id-1 div.sk-toggleable__content pre {margin: 0.2em;color: black;border-radius: 0.25em;background-color: #f0f8ff;}#sk-container-id-1 input.sk-toggleable__control:checked~div.sk-toggleable__content {max-height: 200px;max-width: 100%;overflow: auto;}#sk-container-id-1 input.sk-toggleable__control:checked~label.sk-toggleable__label-arrow:before {content: \"▾\";}#sk-container-id-1 div.sk-estimator input.sk-toggleable__control:checked~label.sk-toggleable__label {background-color: #d4ebff;}#sk-container-id-1 div.sk-label input.sk-toggleable__control:checked~label.sk-toggleable__label {background-color: #d4ebff;}#sk-container-id-1 input.sk-hidden--visually {border: 0;clip: rect(1px 1px 1px 1px);clip: rect(1px, 1px, 1px, 1px);height: 1px;margin: -1px;overflow: hidden;padding: 0;position: absolute;width: 1px;}#sk-container-id-1 div.sk-estimator {font-family: monospace;background-color: #f0f8ff;border: 1px dotted black;border-radius: 0.25em;box-sizing: border-box;margin-bottom: 0.5em;}#sk-container-id-1 div.sk-estimator:hover {background-color: #d4ebff;}#sk-container-id-1 div.sk-parallel-item::after {content: \"\";width: 100%;border-bottom: 1px solid gray;flex-grow: 1;}#sk-container-id-1 div.sk-label:hover label.sk-toggleable__label {background-color: #d4ebff;}#sk-container-id-1 div.sk-serial::before {content: \"\";position: absolute;border-left: 1px solid gray;box-sizing: border-box;top: 0;bottom: 0;left: 50%;z-index: 0;}#sk-container-id-1 div.sk-serial {display: flex;flex-direction: column;align-items: center;background-color: white;padding-right: 0.2em;padding-left: 0.2em;position: relative;}#sk-container-id-1 div.sk-item {position: relative;z-index: 1;}#sk-container-id-1 div.sk-parallel {display: flex;align-items: stretch;justify-content: center;background-color: white;position: relative;}#sk-container-id-1 div.sk-item::before, #sk-container-id-1 div.sk-parallel-item::before {content: \"\";position: absolute;border-left: 1px solid gray;box-sizing: border-box;top: 0;bottom: 0;left: 50%;z-index: -1;}#sk-container-id-1 div.sk-parallel-item {display: flex;flex-direction: column;z-index: 1;position: relative;background-color: white;}#sk-container-id-1 div.sk-parallel-item:first-child::after {align-self: flex-end;width: 50%;}#sk-container-id-1 div.sk-parallel-item:last-child::after {align-self: flex-start;width: 50%;}#sk-container-id-1 div.sk-parallel-item:only-child::after {width: 0;}#sk-container-id-1 div.sk-dashed-wrapped {border: 1px dashed gray;margin: 0 0.4em 0.5em 0.4em;box-sizing: border-box;padding-bottom: 0.4em;background-color: white;}#sk-container-id-1 div.sk-label label {font-family: monospace;font-weight: bold;display: inline-block;line-height: 1.2em;}#sk-container-id-1 div.sk-label-container {text-align: center;}#sk-container-id-1 div.sk-container {/* jupyter's `normalize.less` sets `[hidden] { display: none; }` but bootstrap.min.css set `[hidden] { display: none !important; }` so we also need the `!important` here to be able to override the default hidden behavior on the sphinx rendered scikit-learn.org. See: https://github.com/scikit-learn/scikit-learn/issues/21755 */display: inline-block !important;position: relative;}#sk-container-id-1 div.sk-text-repr-fallback {display: none;}</style><div id=\"sk-container-id-1\" class=\"sk-top-container\"><div class=\"sk-text-repr-fallback\"><pre>DecisionTreeClassifier(random_state=1)</pre><b>In a Jupyter environment, please rerun this cell to show the HTML representation or trust the notebook. <br />On GitHub, the HTML representation is unable to render, please try loading this page with nbviewer.org.</b></div><div class=\"sk-container\" hidden><div class=\"sk-item\"><div class=\"sk-estimator sk-toggleable\"><input class=\"sk-toggleable__control sk-hidden--visually\" id=\"sk-estimator-id-1\" type=\"checkbox\" checked><label for=\"sk-estimator-id-1\" class=\"sk-toggleable__label sk-toggleable__label-arrow\">DecisionTreeClassifier</label><div class=\"sk-toggleable__content\"><pre>DecisionTreeClassifier(random_state=1)</pre></div></div></div></div></div>"
      ],
      "text/plain": [
       "DecisionTreeClassifier(random_state=1)"
      ]
     },
     "execution_count": 21,
     "metadata": {},
     "output_type": "execute_result"
    }
   ],
   "source": [
    "# defining the ML model to build\n",
    "model = DecisionTreeClassifier(random_state=1)\n",
    "\n",
    "# training the ML model on the train data\n",
    "model.fit(X_train, y_train)"
   ]
  },
  {
   "cell_type": "code",
   "execution_count": null,
   "id": "rhCzeOmOU5Oq",
   "metadata": {
    "id": "rhCzeOmOU5Oq"
   },
   "outputs": [],
   "source": [
    "def confusion_matrix_sklearn(model, predictors, target):\n",
    "    \"\"\"\n",
    "    To plot the confusion_matrix with percentages\n",
    "\n",
    "    model: classifier\n",
    "    predictors: independent variables\n",
    "    target: dependent variable\n",
    "    \"\"\"\n",
    "    y_pred = model.predict(predictors)\n",
    "    cm = confusion_matrix(target, y_pred)\n",
    "    labels = np.asarray(\n",
    "        [\n",
    "            [\"{0:0.0f}\".format(item) + \"\\n{0:.2%}\".format(item / cm.flatten().sum())]\n",
    "            for item in cm.flatten()\n",
    "        ]\n",
    "    ).reshape(2, 2)\n",
    "\n",
    "    plt.figure(figsize=(6, 4))\n",
    "    sns.heatmap(cm, annot=labels, fmt=\"\")\n",
    "    plt.ylabel(\"True label\")\n",
    "    plt.xlabel(\"Predicted label\")"
   ]
  },
  {
   "cell_type": "code",
   "execution_count": null,
   "id": "6a_TEQtgH-98",
   "metadata": {
    "colab": {
     "base_uri": "https://localhost:8080/",
     "height": 388
    },
    "id": "6a_TEQtgH-98",
    "outputId": "9d4ec31d-adb2-4130-80c8-87d2a97c6e03",
    "scrolled": true
   },
   "outputs": [
    {
     "data": {
      "image/png": "[encoded data removed]",
      "text/plain": [
       "<Figure size 432x288 with 2 Axes>"
      ]
     },
     "metadata": {
      "needs_background": "light"
     },
     "output_type": "display_data"
    }
   ],
   "source": [
    "# confusion matrix for train data\n",
    "confusion_matrix_sklearn(model, X_train, y_train)"
   ]
  },
  {
   "cell_type": "code",
   "execution_count": null,
   "id": "zErjplenL17K",
   "metadata": {
    "colab": {
     "base_uri": "https://localhost:8080/"
    },
    "id": "zErjplenL17K",
    "outputId": "3164a162-cb97-4525-b35b-5aaf4e03219d"
   },
   "outputs": [
    {
     "name": "stdout",
     "output_type": "stream",
     "text": [
      "Model Score on Train Data: 98.96\n"
     ]
    }
   ],
   "source": [
    "# evaluating the model performance on the train data\n",
    "model_train_predictions = model.predict(X_train)\n",
    "model_train_score = f1_score(y_train, model_train_predictions)\n",
    "\n",
    "print(\"Model Score on Train Data:\", np.round(100*model_train_score, 2))"
   ]
  },
  {
   "cell_type": "code",
   "execution_count": null,
   "id": "73ab5c22",
   "metadata": {
    "id": "73ab5c22",
    "outputId": "685cb22d-6398-4855-9e95-8b5c4660b1fe"
   },
   "outputs": [
    {
     "data": {
      "image/png": "[encoded data removed]",
      "text/plain": [
       "<Figure size 432x288 with 2 Axes>"
      ]
     },
     "metadata": {
      "needs_background": "light"
     },
     "output_type": "display_data"
    }
   ],
   "source": [
    "# confusion matrix for test data\n",
    "confusion_matrix_sklearn(model, X_test, y_test)"
   ]
  },
  {
   "cell_type": "code",
   "execution_count": null,
   "id": "h5RMzGEGPr7A",
   "metadata": {
    "id": "h5RMzGEGPr7A",
    "outputId": "2fb645f6-2af5-4d9b-90a9-7af4fcee41a7"
   },
   "outputs": [
    {
     "name": "stdout",
     "output_type": "stream",
     "text": [
      "Model Score on Test Data: 79.3\n"
     ]
    }
   ],
   "source": [
    "# evaluating the model performance on the test data\n",
    "model_test_predictions = model.predict(X_test)\n",
    "model_test_score = f1_score(y_test, model_test_predictions)\n",
    "\n",
    "print(\"Model Score on Test Data:\", np.round(100*model_test_score, 2))"
   ]
  },
  {
   "cell_type": "markdown",
   "id": "YQJQJEL2R7Dq",
   "metadata": {
    "id": "YQJQJEL2R7Dq"
   },
   "source": [
    "## Observations from Model Evaluation\n",
    "\n",
    "The ML model has a score of 99% on the train data and 79% on the test data respectively.\n",
    "\n",
    "- This shows that while the model work really well on the data it is trained on, it fails to replicate the same performance on unseen data.\n",
    "\n",
    "- This becomes a worry as the ultimate goal would be to make predictions for new reservations that have not come in yet, and we do not want a model that will fail to perform well on such unseen data."
   ]
  },
  {
   "cell_type": "markdown",
   "id": "d5812b7b",
   "metadata": {
    "id": "d5812b7b"
   },
   "source": [
    "## Model Tuning"
   ]
  },
  {
   "cell_type": "code",
   "execution_count": null,
   "id": "fmC6u_TtDYnB",
   "metadata": {
    "id": "fmC6u_TtDYnB"
   },
   "outputs": [],
   "source": [
    "# choosing the type of ML Model\n",
    "dummy_model = DecisionTreeClassifier(random_state=1, class_weight=\"balanced\")\n",
    "\n",
    "# defining the grid of parameters of the ML Model to choose from\n",
    "parameters = {\n",
    "    \"max_leaf_nodes\": [150, 250],\n",
    "    \"min_samples_split\": [10, 30],\n",
    "}\n",
    "\n",
    "# defining the model score on which we want to compare parameter combinations\n",
    "acc_scorer = make_scorer(f1_score)\n",
    "\n",
    "# running the model tuning algorithm\n",
    "grid_obj = GridSearchCV(dummy_model, parameters, scoring=acc_scorer, cv=5)\n",
    "grid_obj = grid_obj.fit(X_train, y_train)"
   ]
  },
  {
   "cell_type": "code",
   "execution_count": null,
   "id": "Ngv2EYSaTZn8",
   "metadata": {
    "id": "Ngv2EYSaTZn8",
    "outputId": "74f60097-9421-4f36-89b5-827fa60634c4"
   },
   "outputs": [
    {
     "data": {
      "text/html": [
       "<style>#sk-container-id-2 {color: black;background-color: white;}#sk-container-id-2 pre{padding: 0;}#sk-container-id-2 div.sk-toggleable {background-color: white;}#sk-container-id-2 label.sk-toggleable__label {cursor: pointer;display: block;width: 100%;margin-bottom: 0;padding: 0.3em;box-sizing: border-box;text-align: center;}#sk-container-id-2 label.sk-toggleable__label-arrow:before {content: \"▸\";float: left;margin-right: 0.25em;color: #696969;}#sk-container-id-2 label.sk-toggleable__label-arrow:hover:before {color: black;}#sk-container-id-2 div.sk-estimator:hover label.sk-toggleable__label-arrow:before {color: black;}#sk-container-id-2 div.sk-toggleable__content {max-height: 0;max-width: 0;overflow: hidden;text-align: left;background-color: #f0f8ff;}#sk-container-id-2 div.sk-toggleable__content pre {margin: 0.2em;color: black;border-radius: 0.25em;background-color: #f0f8ff;}#sk-container-id-2 input.sk-toggleable__control:checked~div.sk-toggleable__content {max-height: 200px;max-width: 100%;overflow: auto;}#sk-container-id-2 input.sk-toggleable__control:checked~label.sk-toggleable__label-arrow:before {content: \"▾\";}#sk-container-id-2 div.sk-estimator input.sk-toggleable__control:checked~label.sk-toggleable__label {background-color: #d4ebff;}#sk-container-id-2 div.sk-label input.sk-toggleable__control:checked~label.sk-toggleable__label {background-color: #d4ebff;}#sk-container-id-2 input.sk-hidden--visually {border: 0;clip: rect(1px 1px 1px 1px);clip: rect(1px, 1px, 1px, 1px);height: 1px;margin: -1px;overflow: hidden;padding: 0;position: absolute;width: 1px;}#sk-container-id-2 div.sk-estimator {font-family: monospace;background-color: #f0f8ff;border: 1px dotted black;border-radius: 0.25em;box-sizing: border-box;margin-bottom: 0.5em;}#sk-container-id-2 div.sk-estimator:hover {background-color: #d4ebff;}#sk-container-id-2 div.sk-parallel-item::after {content: \"\";width: 100%;border-bottom: 1px solid gray;flex-grow: 1;}#sk-container-id-2 div.sk-label:hover label.sk-toggleable__label {background-color: #d4ebff;}#sk-container-id-2 div.sk-serial::before {content: \"\";position: absolute;border-left: 1px solid gray;box-sizing: border-box;top: 0;bottom: 0;left: 50%;z-index: 0;}#sk-container-id-2 div.sk-serial {display: flex;flex-direction: column;align-items: center;background-color: white;padding-right: 0.2em;padding-left: 0.2em;position: relative;}#sk-container-id-2 div.sk-item {position: relative;z-index: 1;}#sk-container-id-2 div.sk-parallel {display: flex;align-items: stretch;justify-content: center;background-color: white;position: relative;}#sk-container-id-2 div.sk-item::before, #sk-container-id-2 div.sk-parallel-item::before {content: \"\";position: absolute;border-left: 1px solid gray;box-sizing: border-box;top: 0;bottom: 0;left: 50%;z-index: -1;}#sk-container-id-2 div.sk-parallel-item {display: flex;flex-direction: column;z-index: 1;position: relative;background-color: white;}#sk-container-id-2 div.sk-parallel-item:first-child::after {align-self: flex-end;width: 50%;}#sk-container-id-2 div.sk-parallel-item:last-child::after {align-self: flex-start;width: 50%;}#sk-container-id-2 div.sk-parallel-item:only-child::after {width: 0;}#sk-container-id-2 div.sk-dashed-wrapped {border: 1px dashed gray;margin: 0 0.4em 0.5em 0.4em;box-sizing: border-box;padding-bottom: 0.4em;background-color: white;}#sk-container-id-2 div.sk-label label {font-family: monospace;font-weight: bold;display: inline-block;line-height: 1.2em;}#sk-container-id-2 div.sk-label-container {text-align: center;}#sk-container-id-2 div.sk-container {/* jupyter's `normalize.less` sets `[hidden] { display: none; }` but bootstrap.min.css set `[hidden] { display: none !important; }` so we also need the `!important` here to be able to override the default hidden behavior on the sphinx rendered scikit-learn.org. See: https://github.com/scikit-learn/scikit-learn/issues/21755 */display: inline-block !important;position: relative;}#sk-container-id-2 div.sk-text-repr-fallback {display: none;}</style><div id=\"sk-container-id-2\" class=\"sk-top-container\"><div class=\"sk-text-repr-fallback\"><pre>DecisionTreeClassifier(class_weight=&#x27;balanced&#x27;, max_leaf_nodes=250,\n",
       "                       min_samples_split=10, random_state=1)</pre><b>In a Jupyter environment, please rerun this cell to show the HTML representation or trust the notebook. <br />On GitHub, the HTML representation is unable to render, please try loading this page with nbviewer.org.</b></div><div class=\"sk-container\" hidden><div class=\"sk-item\"><div class=\"sk-estimator sk-toggleable\"><input class=\"sk-toggleable__control sk-hidden--visually\" id=\"sk-estimator-id-2\" type=\"checkbox\" checked><label for=\"sk-estimator-id-2\" class=\"sk-toggleable__label sk-toggleable__label-arrow\">DecisionTreeClassifier</label><div class=\"sk-toggleable__content\"><pre>DecisionTreeClassifier(class_weight=&#x27;balanced&#x27;, max_leaf_nodes=250,\n",
       "                       min_samples_split=10, random_state=1)</pre></div></div></div></div></div>"
      ],
      "text/plain": [
       "DecisionTreeClassifier(class_weight='balanced', max_leaf_nodes=250,\n",
       "                       min_samples_split=10, random_state=1)"
      ]
     },
     "execution_count": 28,
     "metadata": {},
     "output_type": "execute_result"
    }
   ],
   "source": [
    "# selecting the best combination of parameters for the model to create a new model\n",
    "tuned_model = grid_obj.best_estimator_\n",
    "\n",
    "# training the new ML Model\n",
    "tuned_model.fit(X_train, y_train)"
   ]
  },
  {
   "cell_type": "code",
   "execution_count": null,
   "id": "hul0pRuHDYnC",
   "metadata": {
    "id": "hul0pRuHDYnC",
    "outputId": "17a59e99-f64e-4feb-b750-239782deb527"
   },
   "outputs": [
    {
     "name": "stdout",
     "output_type": "stream",
     "text": [
      "Model Score on Train Data: 81.83\n"
     ]
    }
   ],
   "source": [
    "# evaluating the model performance on the train data\n",
    "tuned_model_train_predictions = tuned_model.predict(X_train)\n",
    "tuned_model_train_score = f1_score(y_train, tuned_model_train_predictions)\n",
    "\n",
    "print(\"Model Score on Train Data:\", np.round(100*tuned_model_train_score, 2))"
   ]
  },
  {
   "cell_type": "code",
   "execution_count": null,
   "id": "ma5As_quUBES",
   "metadata": {
    "id": "ma5As_quUBES",
    "outputId": "f2e3c303-dd82-476f-ccf6-6bc6ca991c20"
   },
   "outputs": [
    {
     "name": "stdout",
     "output_type": "stream",
     "text": [
      "Model Score on Test Data: 80.2\n"
     ]
    }
   ],
   "source": [
    "# evaluating the model performance on the test data\n",
    "tuned_model_test_predictions = tuned_model.predict(X_test)\n",
    "tuned_model_test_score = f1_score(y_test, tuned_model_test_predictions)\n",
    "\n",
    "print(\"Model Score on Test Data:\", np.round(100*tuned_model_test_score, 2))"
   ]
  },
  {
   "cell_type": "markdown",
   "id": "83f395b6",
   "metadata": {
    "id": "83f395b6"
   },
   "source": [
    "- The train and test performances are much more similar now, so we can say that the model is able to generalize well"
   ]
  },
  {
   "cell_type": "markdown",
   "id": "BJMiIJqlUoXL",
   "metadata": {
    "id": "BJMiIJqlUoXL"
   },
   "source": [
    "## Model Testing"
   ]
  },
  {
   "cell_type": "code",
   "execution_count": null,
   "id": "oBgtL64-Ub6L",
   "metadata": {
    "id": "oBgtL64-Ub6L"
   },
   "outputs": [],
   "source": [
    "final_model = tuned_model"
   ]
  },
  {
   "cell_type": "code",
   "execution_count": null,
   "id": "rA3jJ-kxwurk",
   "metadata": {
    "id": "rA3jJ-kxwurk",
    "outputId": "8e110bde-8326-4f49-be75-43320685691a"
   },
   "outputs": [
    {
     "name": "stdout",
     "output_type": "stream",
     "text": [
      "Model Score on Test Data: 80.2\n"
     ]
    }
   ],
   "source": [
    "# evaluating the model performance on the test data\n",
    "final_model_test_predictions = final_model.predict(X_test)\n",
    "final_model_test_score = f1_score(y_test, final_model_test_predictions)\n",
    "\n",
    "print(\"Model Score on Test Data:\", np.round(100*final_model_test_score, 2))"
   ]
  },
  {
   "cell_type": "markdown",
   "id": "EEo4RR8UZt66",
   "metadata": {
    "id": "EEo4RR8UZt66"
   },
   "source": [
    "## Observations from Model Testing\n",
    "\n",
    "- Our ML model has a score of ~80% on the test data, which is a good score.\n",
    "- We can now move ahead to the next stage."
   ]
  },
  {
   "cell_type": "markdown",
   "id": "IsqvoVnmxX7h",
   "metadata": {
    "id": "IsqvoVnmxX7h"
   },
   "source": [
    "# **Model Deployment and Monitoring**"
   ]
  },
  {
   "cell_type": "code",
   "execution_count": null,
   "id": "d40d8502",
   "metadata": {
    "id": "d40d8502"
   },
   "outputs": [],
   "source": [
    "# exporting the final model to the disk\n",
    "joblib.dump(final_model, 'hotel_cancellation_prediction_model_v1_0.joblib')"
   ]
  },
  {
   "cell_type": "code",
   "execution_count": null,
   "id": "6186d901",
   "metadata": {
    "id": "6186d901"
   },
   "outputs": [],
   "source": [
    "# loading the final model from the disk\n",
    "cancellation_predictor = joblib.load('hotel_cancellation_prediction_model_v1_0.joblib')"
   ]
  },
  {
   "cell_type": "code",
   "execution_count": null,
   "id": "2b2e64d9",
   "metadata": {
    "id": "2b2e64d9"
   },
   "outputs": [],
   "source": [
    "# define a function that will take the necessary inputs and make predictions\n",
    "\n",
    "def predict_cancellation(lead_time, market_segment_type, avg_price_per_room, no_of_adults, no_of_weekend_nights, no_of_week_nights, no_of_special_requests, arrival_month, required_car_parking_space):\n",
    "\n",
    "    # dictionary of inputs\n",
    "    input_data = {\n",
    "        'lead_time': lead_time,\n",
    "        'no_of_special_requests': no_of_special_requests,\n",
    "        'avg_price_per_room': avg_price_per_room,\n",
    "        'no_of_adults': no_of_adults,\n",
    "        'no_of_weekend_nights': no_of_weekend_nights,\n",
    "        'required_car_parking_space': 1.0 if required_car_parking_space == \"Yes\" else 0.0,\n",
    "        'no_of_week_nights': no_of_week_nights,\n",
    "        'arrival_month': arrival_month,\n",
    "        'market_segment_type_Online': 1 if market_segment_type == 'Online' else 0,\n",
    "    }\n",
    "\n",
    "    # create a dataframe using the dictionary of inputs\n",
    "    data_point = pd.DataFrame([input_data])\n",
    "\n",
    "    # predicting the output and probability of the output\n",
    "    prediction = cancellation_predictor.predict(data_point).tolist()\n",
    "    prediction_prob = np.round(100*cancellation_predictor.predict_proba(data_point)[0][0], 2) if prediction == 1 else np.round(100*cancellation_predictor.predict_proba(data_point)[0][1], 2)\n",
    "\n",
    "    # returning the final output\n",
    "    return (\"Yes\", str(prediction_prob)+\"%\") if prediction[0] == 1 else (\"No\", str(prediction_prob)+\"%\")"
   ]
  },
  {
   "cell_type": "code",
   "execution_count": null,
   "id": "421fee98",
   "metadata": {
    "id": "421fee98"
   },
   "outputs": [],
   "source": [
    "# creating the deployment input interface\n",
    "model_inputs = [\n",
    "    gr.inputs.Number(label=\"Lead Time\"),\n",
    "    gr.inputs.Dropdown(label=\"Market Segment Type\", choices=[\"Online\", \"Offline\"]),\n",
    "    gr.inputs.Number(label=\"Average Price per Room\"),\n",
    "    gr.inputs.Number(label=\"Number of Adults\"),\n",
    "    gr.inputs.Number(label=\"Number of Weekend Nights\"),\n",
    "    gr.inputs.Number(label=\"Number of Week Nights\"),\n",
    "    gr.inputs.Number(label=\"Number of Special Requests\"),\n",
    "    gr.inputs.Dropdown(label=\"Arrival Month\", choices=np.arange(1,13,1).tolist()),\n",
    "    gr.inputs.Dropdown(label=\"Required Car Parking Space\", choices=[\"Yes\", \"No\"])\n",
    "]\n",
    "\n",
    "# creating the deployment output interface\n",
    "model_outputs = [\n",
    "    gr.Textbox(label=\"Will the booking be cancelled?\"),\n",
    "    gr.Textbox(label=\"Chances of Cancellation\")\n",
    "]"
   ]
  },
  {
   "cell_type": "code",
   "execution_count": null,
   "id": "1d99c6a0",
   "metadata": {
    "id": "1d99c6a0"
   },
   "outputs": [],
   "source": [
    "# defining the structure of the deployment interface and how the components will interact\n",
    "demo = gr.Interface(\n",
    "    fn = predict_cancellation,\n",
    "    inputs = model_inputs,\n",
    "    outputs = model_outputs,\n",
    "    allow_flagging='never',\n",
    "    title = \"Hotel Booking Cancellation Predictor\",\n",
    "    description = \"This interface will predict whether a given hotel booking is likely to be cancelled based on the details of the booking.\",\n",
    ")"
   ]
  },
  {
   "cell_type": "code",
   "execution_count": null,
   "id": "fad86ac5",
   "metadata": {
    "id": "fad86ac5"
   },
   "outputs": [],
   "source": [
    "# deploying the model\n",
    "demo.launch(inline=False, share=True, debug=True)"
   ]
  },
  {
   "cell_type": "code",
   "execution_count": null,
   "id": "0153b22a",
   "metadata": {
    "id": "0153b22a"
   },
   "outputs": [],
   "source": [
    "# shutting down the deployed model\n",
    "demo.close()"
   ]
  }
 ],
 "metadata": {
  "colab": {
   "collapsed_sections": [
    "tqfNqaJCQeEE",
    "fantastic-rebel",
    "_BOwB9amVVrp"
   ],
   "provenance": []
  },
  "kernelspec": {
   "display_name": "Python 3 (ipykernel)",
   "language": "python",
   "name": "python3"
  },
  "language_info": {
   "codemirror_mode": {
    "name": "ipython",
    "version": 3
   },
   "file_extension": ".py",
   "mimetype": "text/x-python",
   "name": "python",
   "nbconvert_exporter": "python",
   "pygments_lexer": "ipython3",
   "version": "3.11.5"
  }
 },
 "nbformat": 4,
 "nbformat_minor": 5
}
